{
 "cells": [
  {
   "cell_type": "code",
   "execution_count": 1,
   "metadata": {},
   "outputs": [],
   "source": [
    "#import important libraries\n",
    "import pandas as pd\n",
    "import numpy as np\n",
    "import matplotlib.pyplot as plt\n",
    "import seaborn as sns\n",
    "from sklearn.model_selection import train_test_split\n",
    "from sklearn.metrics import accuracy_score, confusion_matrix\n",
    "from sklearn.preprocessing import MinMaxScaler\n",
    "from imblearn.over_sampling import SMOTE\n",
    "import warnings\n",
    "warnings.filterwarnings('ignore')"
   ]
  },
  {
   "cell_type": "code",
   "execution_count": 2,
   "metadata": {},
   "outputs": [],
   "source": [
    "from collections import Counter"
   ]
  },
  {
   "cell_type": "code",
   "execution_count": 3,
   "metadata": {},
   "outputs": [],
   "source": [
    "from keras import Sequential\n",
    "from keras.layers import Dense"
   ]
  },
  {
   "cell_type": "code",
   "execution_count": 4,
   "metadata": {},
   "outputs": [
    {
     "data": {
      "text/html": [
       "<div>\n",
       "<style scoped>\n",
       "    .dataframe tbody tr th:only-of-type {\n",
       "        vertical-align: middle;\n",
       "    }\n",
       "\n",
       "    .dataframe tbody tr th {\n",
       "        vertical-align: top;\n",
       "    }\n",
       "\n",
       "    .dataframe thead th {\n",
       "        text-align: right;\n",
       "    }\n",
       "</style>\n",
       "<table border=\"1\" class=\"dataframe\">\n",
       "  <thead>\n",
       "    <tr style=\"text-align: right;\">\n",
       "      <th></th>\n",
       "      <th>Loan_ID</th>\n",
       "      <th>Gender</th>\n",
       "      <th>Married</th>\n",
       "      <th>Dependents</th>\n",
       "      <th>Education</th>\n",
       "      <th>Self_Employed</th>\n",
       "      <th>ApplicantIncome</th>\n",
       "      <th>CoapplicantIncome</th>\n",
       "      <th>LoanAmount</th>\n",
       "      <th>Loan_Amount_Term</th>\n",
       "      <th>Credit_History</th>\n",
       "      <th>Property_Area</th>\n",
       "      <th>Loan_Status</th>\n",
       "    </tr>\n",
       "  </thead>\n",
       "  <tbody>\n",
       "    <tr>\n",
       "      <th>0</th>\n",
       "      <td>LP001002</td>\n",
       "      <td>Male</td>\n",
       "      <td>No</td>\n",
       "      <td>0.0</td>\n",
       "      <td>Graduate</td>\n",
       "      <td>No</td>\n",
       "      <td>5849</td>\n",
       "      <td>0.0</td>\n",
       "      <td>NaN</td>\n",
       "      <td>360.0</td>\n",
       "      <td>1.0</td>\n",
       "      <td>Urban</td>\n",
       "      <td>Y</td>\n",
       "    </tr>\n",
       "    <tr>\n",
       "      <th>1</th>\n",
       "      <td>LP001003</td>\n",
       "      <td>Male</td>\n",
       "      <td>Yes</td>\n",
       "      <td>1.0</td>\n",
       "      <td>Graduate</td>\n",
       "      <td>No</td>\n",
       "      <td>4583</td>\n",
       "      <td>1508.0</td>\n",
       "      <td>128.0</td>\n",
       "      <td>360.0</td>\n",
       "      <td>1.0</td>\n",
       "      <td>Rural</td>\n",
       "      <td>N</td>\n",
       "    </tr>\n",
       "    <tr>\n",
       "      <th>2</th>\n",
       "      <td>LP001005</td>\n",
       "      <td>Male</td>\n",
       "      <td>Yes</td>\n",
       "      <td>0.0</td>\n",
       "      <td>Graduate</td>\n",
       "      <td>Yes</td>\n",
       "      <td>3000</td>\n",
       "      <td>0.0</td>\n",
       "      <td>66.0</td>\n",
       "      <td>360.0</td>\n",
       "      <td>1.0</td>\n",
       "      <td>Urban</td>\n",
       "      <td>Y</td>\n",
       "    </tr>\n",
       "    <tr>\n",
       "      <th>3</th>\n",
       "      <td>LP001006</td>\n",
       "      <td>Male</td>\n",
       "      <td>Yes</td>\n",
       "      <td>0.0</td>\n",
       "      <td>Not Graduate</td>\n",
       "      <td>No</td>\n",
       "      <td>2583</td>\n",
       "      <td>2358.0</td>\n",
       "      <td>120.0</td>\n",
       "      <td>360.0</td>\n",
       "      <td>1.0</td>\n",
       "      <td>Urban</td>\n",
       "      <td>Y</td>\n",
       "    </tr>\n",
       "    <tr>\n",
       "      <th>4</th>\n",
       "      <td>LP001008</td>\n",
       "      <td>Male</td>\n",
       "      <td>No</td>\n",
       "      <td>0.0</td>\n",
       "      <td>Graduate</td>\n",
       "      <td>No</td>\n",
       "      <td>6000</td>\n",
       "      <td>0.0</td>\n",
       "      <td>141.0</td>\n",
       "      <td>360.0</td>\n",
       "      <td>1.0</td>\n",
       "      <td>Urban</td>\n",
       "      <td>Y</td>\n",
       "    </tr>\n",
       "  </tbody>\n",
       "</table>\n",
       "</div>"
      ],
      "text/plain": [
       "    Loan_ID Gender Married  Dependents     Education Self_Employed  \\\n",
       "0  LP001002   Male      No         0.0      Graduate            No   \n",
       "1  LP001003   Male     Yes         1.0      Graduate            No   \n",
       "2  LP001005   Male     Yes         0.0      Graduate           Yes   \n",
       "3  LP001006   Male     Yes         0.0  Not Graduate            No   \n",
       "4  LP001008   Male      No         0.0      Graduate            No   \n",
       "\n",
       "   ApplicantIncome  CoapplicantIncome  LoanAmount  Loan_Amount_Term  \\\n",
       "0             5849                0.0         NaN             360.0   \n",
       "1             4583             1508.0       128.0             360.0   \n",
       "2             3000                0.0        66.0             360.0   \n",
       "3             2583             2358.0       120.0             360.0   \n",
       "4             6000                0.0       141.0             360.0   \n",
       "\n",
       "   Credit_History Property_Area Loan_Status  \n",
       "0             1.0         Urban           Y  \n",
       "1             1.0         Rural           N  \n",
       "2             1.0         Urban           Y  \n",
       "3             1.0         Urban           Y  \n",
       "4             1.0         Urban           Y  "
      ]
     },
     "execution_count": 4,
     "metadata": {},
     "output_type": "execute_result"
    }
   ],
   "source": [
    "#reading the dataframe\n",
    "df = pd.read_csv('../csv_files/bankloan.csv')\n",
    "df.head(5)"
   ]
  },
  {
   "cell_type": "code",
   "execution_count": 5,
   "metadata": {},
   "outputs": [
    {
     "data": {
      "text/plain": [
       "Loan_ID               0\n",
       "Gender               13\n",
       "Married               3\n",
       "Dependents           15\n",
       "Education             0\n",
       "Self_Employed        32\n",
       "ApplicantIncome       0\n",
       "CoapplicantIncome     0\n",
       "LoanAmount           22\n",
       "Loan_Amount_Term     14\n",
       "Credit_History       50\n",
       "Property_Area         0\n",
       "Loan_Status           0\n",
       "dtype: int64"
      ]
     },
     "execution_count": 5,
     "metadata": {},
     "output_type": "execute_result"
    }
   ],
   "source": [
    "#check if there is any null values\n",
    "df.isna().sum()"
   ]
  },
  {
   "cell_type": "code",
   "execution_count": 6,
   "metadata": {},
   "outputs": [
    {
     "data": {
      "text/plain": [
       "Loan_ID              0\n",
       "Gender               0\n",
       "Married              0\n",
       "Dependents           0\n",
       "Education            0\n",
       "Self_Employed        0\n",
       "ApplicantIncome      0\n",
       "CoapplicantIncome    0\n",
       "LoanAmount           0\n",
       "Loan_Amount_Term     0\n",
       "Credit_History       0\n",
       "Property_Area        0\n",
       "Loan_Status          0\n",
       "dtype: int64"
      ]
     },
     "execution_count": 6,
     "metadata": {},
     "output_type": "execute_result"
    }
   ],
   "source": [
    "#drop the whole unwanted row\n",
    "df = df.dropna()\n",
    "df.isna().sum()"
   ]
  },
  {
   "cell_type": "code",
   "execution_count": 7,
   "metadata": {},
   "outputs": [],
   "source": [
    "df = df.drop('Loan_ID', axis=1)"
   ]
  },
  {
   "cell_type": "code",
   "execution_count": 8,
   "metadata": {},
   "outputs": [
    {
     "data": {
      "text/html": [
       "<div>\n",
       "<style scoped>\n",
       "    .dataframe tbody tr th:only-of-type {\n",
       "        vertical-align: middle;\n",
       "    }\n",
       "\n",
       "    .dataframe tbody tr th {\n",
       "        vertical-align: top;\n",
       "    }\n",
       "\n",
       "    .dataframe thead th {\n",
       "        text-align: right;\n",
       "    }\n",
       "</style>\n",
       "<table border=\"1\" class=\"dataframe\">\n",
       "  <thead>\n",
       "    <tr style=\"text-align: right;\">\n",
       "      <th></th>\n",
       "      <th>Gender</th>\n",
       "      <th>Married</th>\n",
       "      <th>Dependents</th>\n",
       "      <th>Education</th>\n",
       "      <th>Self_Employed</th>\n",
       "      <th>ApplicantIncome</th>\n",
       "      <th>CoapplicantIncome</th>\n",
       "      <th>LoanAmount</th>\n",
       "      <th>Loan_Amount_Term</th>\n",
       "      <th>Credit_History</th>\n",
       "      <th>Property_Area</th>\n",
       "      <th>Loan_Status</th>\n",
       "    </tr>\n",
       "  </thead>\n",
       "  <tbody>\n",
       "    <tr>\n",
       "      <th>1</th>\n",
       "      <td>Male</td>\n",
       "      <td>Yes</td>\n",
       "      <td>1.0</td>\n",
       "      <td>Graduate</td>\n",
       "      <td>No</td>\n",
       "      <td>4583</td>\n",
       "      <td>1508.0</td>\n",
       "      <td>128.0</td>\n",
       "      <td>360.0</td>\n",
       "      <td>1.0</td>\n",
       "      <td>Rural</td>\n",
       "      <td>N</td>\n",
       "    </tr>\n",
       "    <tr>\n",
       "      <th>2</th>\n",
       "      <td>Male</td>\n",
       "      <td>Yes</td>\n",
       "      <td>0.0</td>\n",
       "      <td>Graduate</td>\n",
       "      <td>Yes</td>\n",
       "      <td>3000</td>\n",
       "      <td>0.0</td>\n",
       "      <td>66.0</td>\n",
       "      <td>360.0</td>\n",
       "      <td>1.0</td>\n",
       "      <td>Urban</td>\n",
       "      <td>Y</td>\n",
       "    </tr>\n",
       "  </tbody>\n",
       "</table>\n",
       "</div>"
      ],
      "text/plain": [
       "  Gender Married  Dependents Education Self_Employed  ApplicantIncome  \\\n",
       "1   Male     Yes         1.0  Graduate            No             4583   \n",
       "2   Male     Yes         0.0  Graduate           Yes             3000   \n",
       "\n",
       "   CoapplicantIncome  LoanAmount  Loan_Amount_Term  Credit_History  \\\n",
       "1             1508.0       128.0             360.0             1.0   \n",
       "2                0.0        66.0             360.0             1.0   \n",
       "\n",
       "  Property_Area Loan_Status  \n",
       "1         Rural           N  \n",
       "2         Urban           Y  "
      ]
     },
     "execution_count": 8,
     "metadata": {},
     "output_type": "execute_result"
    }
   ],
   "source": [
    "df.head(2)"
   ]
  },
  {
   "cell_type": "code",
   "execution_count": 9,
   "metadata": {},
   "outputs": [],
   "source": [
    "df['LoanAmount'] = (df['LoanAmount']*1000).astype(int)"
   ]
  },
  {
   "cell_type": "code",
   "execution_count": 10,
   "metadata": {},
   "outputs": [
    {
     "data": {
      "text/plain": [
       "Counter({'N': 148, 'Y': 332})"
      ]
     },
     "execution_count": 10,
     "metadata": {},
     "output_type": "execute_result"
    }
   ],
   "source": [
    "Counter(df['Loan_Status'])"
   ]
  },
  {
   "cell_type": "code",
   "execution_count": 11,
   "metadata": {},
   "outputs": [],
   "source": [
    "pre_X = df.drop('Loan_Status', axis = 1)\n",
    "pre_y = df['Loan_Status']"
   ]
  },
  {
   "cell_type": "code",
   "execution_count": 12,
   "metadata": {},
   "outputs": [],
   "source": [
    "dummy_X = pd.get_dummies(pre_X)\n",
    "dummy_y = pre_y.map(dict(Y=1, N=0))"
   ]
  },
  {
   "cell_type": "code",
   "execution_count": 13,
   "metadata": {},
   "outputs": [],
   "source": [
    "smote = SMOTE(sampling_strategy= 'minority')\n",
    "X1, y = smote.fit_sample(dummy_X,dummy_y)\n",
    "scaler = MinMaxScaler()\n",
    "X = scaler.fit_transform(X1)"
   ]
  },
  {
   "cell_type": "code",
   "execution_count": 14,
   "metadata": {},
   "outputs": [],
   "source": [
    "X_train, X_test, y_train, y_test = train_test_split(X, y, test_size=0.25, random_state=42, shuffle = True)"
   ]
  },
  {
   "cell_type": "code",
   "execution_count": 15,
   "metadata": {},
   "outputs": [],
   "source": [
    "model = Sequential()\n",
    "model.add(Dense(200, activation = 'relu', kernel_initializer = 'random_normal', input_dim = X_test.shape[1]))\n",
    "model.add(Dense(400, activation = 'relu', kernel_initializer = 'random_normal'))\n",
    "model.add(Dense(4, activation = 'relu', kernel_initializer = 'random_normal'))\n",
    "model.add(Dense(1, activation = 'sigmoid', kernel_initializer = 'random_normal'))"
   ]
  },
  {
   "cell_type": "code",
   "execution_count": 16,
   "metadata": {},
   "outputs": [],
   "source": [
    "model.compile(optimizer = 'adam', loss= 'binary_crossentropy', metrics = ['accuracy'])"
   ]
  },
  {
   "cell_type": "code",
   "execution_count": 17,
   "metadata": {},
   "outputs": [
    {
     "name": "stdout",
     "output_type": "stream",
     "text": [
      "Epoch 1/50\n",
      "25/25 - 0s - loss: 0.6932 - accuracy: 0.5321\n",
      "Epoch 2/50\n",
      "25/25 - 0s - loss: 0.6910 - accuracy: 0.6747\n",
      "Epoch 3/50\n",
      "25/25 - 0s - loss: 0.6712 - accuracy: 0.6687\n",
      "Epoch 4/50\n",
      "25/25 - 0s - loss: 0.5922 - accuracy: 0.7329\n",
      "Epoch 5/50\n",
      "25/25 - 0s - loss: 0.5115 - accuracy: 0.8213\n",
      "Epoch 6/50\n",
      "25/25 - 0s - loss: 0.4785 - accuracy: 0.8474\n",
      "Epoch 7/50\n",
      "25/25 - 0s - loss: 0.4682 - accuracy: 0.8394\n",
      "Epoch 8/50\n",
      "25/25 - 0s - loss: 0.4563 - accuracy: 0.8675\n",
      "Epoch 9/50\n",
      "25/25 - 0s - loss: 0.4475 - accuracy: 0.8494\n",
      "Epoch 10/50\n",
      "25/25 - 0s - loss: 0.4431 - accuracy: 0.8614\n",
      "Epoch 11/50\n",
      "25/25 - 0s - loss: 0.4424 - accuracy: 0.8514\n",
      "Epoch 12/50\n",
      "25/25 - 0s - loss: 0.4285 - accuracy: 0.8655\n",
      "Epoch 13/50\n",
      "25/25 - 0s - loss: 0.4238 - accuracy: 0.8594\n",
      "Epoch 14/50\n",
      "25/25 - 0s - loss: 0.4214 - accuracy: 0.8614\n",
      "Epoch 15/50\n",
      "25/25 - 0s - loss: 0.4202 - accuracy: 0.8635\n",
      "Epoch 16/50\n",
      "25/25 - 0s - loss: 0.4196 - accuracy: 0.8614\n",
      "Epoch 17/50\n",
      "25/25 - 0s - loss: 0.4071 - accuracy: 0.8675\n",
      "Epoch 18/50\n",
      "25/25 - 0s - loss: 0.4063 - accuracy: 0.8675\n",
      "Epoch 19/50\n",
      "25/25 - 0s - loss: 0.4057 - accuracy: 0.8635\n",
      "Epoch 20/50\n",
      "25/25 - 0s - loss: 0.3995 - accuracy: 0.8554\n",
      "Epoch 21/50\n",
      "25/25 - 0s - loss: 0.4013 - accuracy: 0.8554\n",
      "Epoch 22/50\n",
      "25/25 - 0s - loss: 0.4087 - accuracy: 0.8574\n",
      "Epoch 23/50\n",
      "25/25 - 0s - loss: 0.4044 - accuracy: 0.8514\n",
      "Epoch 24/50\n",
      "25/25 - 0s - loss: 0.3874 - accuracy: 0.8675\n",
      "Epoch 25/50\n",
      "25/25 - 0s - loss: 0.3814 - accuracy: 0.8695\n",
      "Epoch 26/50\n",
      "25/25 - 0s - loss: 0.3820 - accuracy: 0.8614\n",
      "Epoch 27/50\n",
      "25/25 - 0s - loss: 0.3839 - accuracy: 0.8594\n",
      "Epoch 28/50\n",
      "25/25 - 0s - loss: 0.3747 - accuracy: 0.8715\n",
      "Epoch 29/50\n",
      "25/25 - 0s - loss: 0.3698 - accuracy: 0.8755\n",
      "Epoch 30/50\n",
      "25/25 - 0s - loss: 0.3700 - accuracy: 0.8655\n",
      "Epoch 31/50\n",
      "25/25 - 0s - loss: 0.3714 - accuracy: 0.8655\n",
      "Epoch 32/50\n",
      "25/25 - 0s - loss: 0.3883 - accuracy: 0.8534\n",
      "Epoch 33/50\n",
      "25/25 - 0s - loss: 0.3760 - accuracy: 0.8594\n",
      "Epoch 34/50\n",
      "25/25 - 0s - loss: 0.3633 - accuracy: 0.8715\n",
      "Epoch 35/50\n",
      "25/25 - 0s - loss: 0.3757 - accuracy: 0.8494\n",
      "Epoch 36/50\n",
      "25/25 - 0s - loss: 0.3744 - accuracy: 0.8594\n",
      "Epoch 37/50\n",
      "25/25 - 0s - loss: 0.3659 - accuracy: 0.8635\n",
      "Epoch 38/50\n",
      "25/25 - 0s - loss: 0.3609 - accuracy: 0.8614\n",
      "Epoch 39/50\n",
      "25/25 - 0s - loss: 0.3596 - accuracy: 0.8614\n",
      "Epoch 40/50\n",
      "25/25 - 0s - loss: 0.3550 - accuracy: 0.8594\n",
      "Epoch 41/50\n",
      "25/25 - 0s - loss: 0.3529 - accuracy: 0.8655\n",
      "Epoch 42/50\n",
      "25/25 - 0s - loss: 0.3726 - accuracy: 0.8514\n",
      "Epoch 43/50\n",
      "25/25 - 0s - loss: 0.3558 - accuracy: 0.8695\n",
      "Epoch 44/50\n",
      "25/25 - 0s - loss: 0.3500 - accuracy: 0.8715\n",
      "Epoch 45/50\n",
      "25/25 - 0s - loss: 0.3452 - accuracy: 0.8735\n",
      "Epoch 46/50\n",
      "25/25 - 0s - loss: 0.3441 - accuracy: 0.8655\n",
      "Epoch 47/50\n",
      "25/25 - 0s - loss: 0.3605 - accuracy: 0.8635\n",
      "Epoch 48/50\n",
      "25/25 - 0s - loss: 0.3359 - accuracy: 0.8775\n",
      "Epoch 49/50\n",
      "25/25 - 0s - loss: 0.3349 - accuracy: 0.8755\n",
      "Epoch 50/50\n",
      "25/25 - 0s - loss: 0.3466 - accuracy: 0.8614\n"
     ]
    },
    {
     "data": {
      "text/plain": [
       "<tensorflow.python.keras.callbacks.History at 0x7ff286f54050>"
      ]
     },
     "execution_count": 17,
     "metadata": {},
     "output_type": "execute_result"
    }
   ],
   "source": [
    "model.fit(X_train, y_train, batch_size = 20, epochs = 50, verbose = 2)"
   ]
  },
  {
   "cell_type": "code",
   "execution_count": 18,
   "metadata": {},
   "outputs": [
    {
     "name": "stdout",
     "output_type": "stream",
     "text": [
      "16/16 [==============================] - 0s 780us/step - loss: 0.3492 - accuracy: 0.8655\n"
     ]
    },
    {
     "data": {
      "text/plain": [
       "[0.349185049533844, 0.8654618263244629]"
      ]
     },
     "execution_count": 18,
     "metadata": {},
     "output_type": "execute_result"
    }
   ],
   "source": [
    "eval_model = model.evaluate(X_train, y_train)\n",
    "eval_model"
   ]
  },
  {
   "cell_type": "code",
   "execution_count": 19,
   "metadata": {},
   "outputs": [],
   "source": [
    "y_pred = model.predict(X_test)\n",
    "y_pred = (y_pred>0.59)"
   ]
  },
  {
   "cell_type": "code",
   "execution_count": 20,
   "metadata": {},
   "outputs": [
    {
     "data": {
      "text/plain": [
       "array([[61, 23],\n",
       "       [ 3, 79]])"
      ]
     },
     "execution_count": 20,
     "metadata": {},
     "output_type": "execute_result"
    }
   ],
   "source": [
    "cm = confusion_matrix(y_test, y_pred)\n",
    "cm"
   ]
  },
  {
   "cell_type": "code",
   "execution_count": 21,
   "metadata": {},
   "outputs": [
    {
     "data": {
      "text/plain": [
       "[Text(0, 0.5, 'No'), Text(0, 1.5, 'Yes')]"
      ]
     },
     "execution_count": 21,
     "metadata": {},
     "output_type": "execute_result"
    },
    {
     "data": {
      "image/png": "[encoded data removed]",
      "text/plain": [
       "<Figure size 432x288 with 2 Axes>"
      ]
     },
     "metadata": {
      "needs_background": "light"
     },
     "output_type": "display_data"
    }
   ],
   "source": [
    "ax = plt.subplot()\n",
    "sns.heatmap(cm, annot=True, ax = ax)\n",
    "\n",
    "ax.set_xlabel('Predicted')\n",
    "ax.set_ylabel('Actual')\n",
    "ax.set_title('Confusion Matrix')\n",
    "\n",
    "ax.xaxis.set_ticklabels(['No','Yes'])\n",
    "ax.yaxis.set_ticklabels(['No','Yes'])"
   ]
  },
  {
   "cell_type": "code",
   "execution_count": 32,
   "metadata": {},
   "outputs": [],
   "source": [
    "#pickle the model to be used in django\n",
    "model.save('../pickles/load_model.h5')"
   ]
  },
  {
   "cell_type": "code",
   "execution_count": 33,
   "metadata": {},
   "outputs": [],
   "source": [
    "#To use the model\n",
    "#new_model = tf.keras.models.load_model('new_model.h5')"
   ]
  },
  {
   "cell_type": "code",
   "execution_count": null,
   "metadata": {},
   "outputs": [],
   "source": []
  }
 ],
 "metadata": {
  "kernelspec": {
   "display_name": "Python 3",
   "language": "python",
   "name": "python3"
  },
  "language_info": {
   "codemirror_mode": {
    "name": "ipython",
    "version": 3
   },
   "file_extension": ".py",
   "mimetype": "text/x-python",
   "name": "python",
   "nbconvert_exporter": "python",
   "pygments_lexer": "ipython3",
   "version": "3.7.6"
  }
 },
 "nbformat": 4,
 "nbformat_minor": 4
}
